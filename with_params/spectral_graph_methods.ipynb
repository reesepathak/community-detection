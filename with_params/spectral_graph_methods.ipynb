{
 "cells": [
  {
   "cell_type": "code",
   "execution_count": 25,
   "metadata": {
    "collapsed": false
   },
   "outputs": [
    {
     "name": "stderr",
     "output_type": "stream",
     "text": [
      "WARNING: Method definition gen_sbm(Any, Any, Any) in module Main at /Users/mark/Documents/Stanford/ee376a/community-detection/with_params/sbm.jl:32 overwritten at /Users/mark/Documents/Stanford/ee376a/community-detection/with_params/sbm.jl:32.\n",
      "\u001b[1m\u001b[31mWARNING: replacing docs for 'gen_sbm :: Tuple{Any,Any,Any}' in module 'Main'.\u001b[0m\n",
      "WARNING: Method definition gen_sym_sbm(Any, Any, Any, Any) in module Main at /Users/mark/Documents/Stanford/ee376a/community-detection/with_params/sbm.jl:78 overwritten at /Users/mark/Documents/Stanford/ee376a/community-detection/with_params/sbm.jl:78.\n",
      "WARNING: Method definition #gen_sym_sbm(Array{Any, 1}, Main.#gen_sym_sbm, Any, Any, Any, Any) in module Main overwritten.\n",
      "\u001b[1m\u001b[31mWARNING: replacing docs for 'gen_sym_sbm :: Tuple{Any,Any,Any,Any}' in module 'Main'.\u001b[0m\n",
      "WARNING: Method definition to_lightgraph(Any, Any) in module Main at /Users/mark/Documents/Stanford/ee376a/community-detection/with_params/sbm.jl:90 overwritten at /Users/mark/Documents/Stanford/ee376a/community-detection/with_params/sbm.jl:90.\n"
     ]
    },
    {
     "data": {
      "text/plain": [
       "to_lightgraph (generic function with 1 method)"
      ]
     },
     "execution_count": 25,
     "metadata": {},
     "output_type": "execute_result"
    }
   ],
   "source": [
    "using LightGraphs, PyPlot\n",
    "include(\"sbm.jl\")"
   ]
  },
  {
   "cell_type": "code",
   "execution_count": 42,
   "metadata": {
    "collapsed": false
   },
   "outputs": [
    {
     "data": {
      "text/plain": [
       "return_classtable (generic function with 1 method)"
      ]
     },
     "execution_count": 42,
     "metadata": {},
     "output_type": "execute_result"
    }
   ],
   "source": [
    "function return_classtable(fname)\n",
    "    file = open(fname)\n",
    "    ground_truth_classes = []\n",
    "    for line in eachline(file)\n",
    "        line = split(strip(line)) # removes white space\n",
    "        if line[1] == \"value\"\n",
    "            push!(ground_truth_classes, convert(Int64, parse(Int64, line[2])))\n",
    "        end\n",
    "    end\n",
    "    return ground_truth_classes\n",
    "end"
   ]
  },
  {
   "cell_type": "code",
   "execution_count": 64,
   "metadata": {
    "collapsed": false
   },
   "outputs": [
    {
     "name": "stdout",
     "output_type": "stream",
     "text": [
      "Loading Political Blog Dataset ....\n",
      "Finding Largest Connected Component\n",
      "Obtaining Subgraph for Largest Connected Component\n",
      "Ground Truth: Cluster sizes are 636 and 586\n"
     ]
    },
    {
     "data": {
      "text/plain": [
       "1222-element Array{Any,1}:\n",
       " 0\n",
       " 0\n",
       " 0\n",
       " 0\n",
       " 0\n",
       " 0\n",
       " 0\n",
       " 0\n",
       " 0\n",
       " 0\n",
       " 0\n",
       " 0\n",
       " 0\n",
       " ⋮\n",
       " 1\n",
       " 1\n",
       " 1\n",
       " 1\n",
       " 1\n",
       " 1\n",
       " 1\n",
       " 1\n",
       " 1\n",
       " 1\n",
       " 1\n",
       " 1"
      ]
     },
     "execution_count": 64,
     "metadata": {},
     "output_type": "execute_result"
    }
   ],
   "source": [
    "FNAME = \"../data/polblogs.gml\"\n",
    "println(\"Loading Political Blog Dataset ....\")\n",
    "original = loadgraph(FNAME, :gml)\n",
    "true_classes = return_classtable(FNAME)\n",
    "\n",
    "println(\"Finding Largest Connected Component\")\n",
    "# ccs = weakly_connected_components(original)\n",
    "ccs = connected_components(original)\n",
    "largest_cc = ccs[indmax(map(x->size(x)[1], ccs))]\n",
    "println(\"Obtaining Subgraph for Largest Connected Component\")\n",
    "blog_dataset, _ = induced_subgraph(original, largest_cc)\n",
    "true_classes = true_classes[largest_cc]\n",
    "blog_dataset = Graph(blog_dataset)\n",
    "num_blogs = nv(blog_dataset)\n",
    "true_cluster_sizes_1 = sum(true_classes)\n",
    "true_cluster_sizes_2 = length(true_classes) - true_cluster_sizes_1\n",
    "println(\"Ground Truth: Cluster sizes are $true_cluster_sizes_1 and $true_cluster_sizes_2\")\n",
    "G = blog_dataset;\n",
    "labels = true_classes;"
   ]
  },
  {
   "cell_type": "code",
   "execution_count": 31,
   "metadata": {
    "collapsed": false
   },
   "outputs": [
    {
     "data": {
      "text/plain": [
       "({1200, 15557} undirected graph,[1,1,0,1,0,1,1,0,0,0  …  1,1,0,0,1,1,0,0,1,1])"
      ]
     },
     "execution_count": 31,
     "metadata": {},
     "output_type": "execute_result"
    }
   ],
   "source": [
    "# Simulate SBM\n",
    "labels,edgeSet = gen_sym_sbm(1200, 2, 6.6, 0.7, regime=SBM_LOG)\n",
    "G, labels = to_lightgraph(labels, edgeSet)\n"
   ]
  },
  {
   "cell_type": "code",
   "execution_count": 66,
   "metadata": {
    "collapsed": false
   },
   "outputs": [
    {
     "data": {
      "image/png": "[encoded data removed]",
      "text/plain": [
       "PyPlot.Figure(PyObject <matplotlib.figure.Figure object at 0x3206e0e10>)"
      ]
     },
     "metadata": {},
     "output_type": "display_data"
    },
    {
     "data": {
      "text/plain": [
       "1-element Array{Any,1}:\n",
       " PyObject <matplotlib.lines.Line2D object at 0x323075c10>"
      ]
     },
     "execution_count": 66,
     "metadata": {},
     "output_type": "execute_result"
    }
   ],
   "source": [
    "e2 = eigvecs(full(laplacian_matrix(G)))[:,3];\n",
    "plot(sort(e2))"
   ]
  },
  {
   "cell_type": "code",
   "execution_count": 67,
   "metadata": {
    "collapsed": false
   },
   "outputs": [
    {
     "data": {
      "image/png": "[encoded data removed]",
      "text/plain": [
       "PyPlot.Figure(PyObject <matplotlib.figure.Figure object at 0x3230c09d0>)"
      ]
     },
     "metadata": {},
     "output_type": "display_data"
    },
    {
     "data": {
      "text/plain": [
       "1-element Array{Any,1}:\n",
       " PyObject <matplotlib.lines.Line2D object at 0x3231362d0>"
      ]
     },
     "execution_count": 67,
     "metadata": {},
     "output_type": "execute_result"
    }
   ],
   "source": [
    "label_est = sign(e2);\n",
    "plot(label_est)\n"
   ]
  },
  {
   "cell_type": "code",
   "execution_count": 68,
   "metadata": {
    "collapsed": false
   },
   "outputs": [
    {
     "data": {
      "text/plain": [
       "0.5098199672667758"
      ]
     },
     "execution_count": 68,
     "metadata": {},
     "output_type": "execute_result"
    }
   ],
   "source": [
    "# SBM errors\n",
    "max(sum(label_est .== labels*2 -1), sum(label_est .!= labels*2 -1))/length(labels)"
   ]
  },
  {
   "cell_type": "code",
   "execution_count": 60,
   "metadata": {
    "collapsed": false
   },
   "outputs": [
    {
     "name": "stdout",
     "output_type": "stream",
     "text": [
      "40_results.txt\n",
      "Untitled.ipynb\n",
      "accuracy_45.png\n",
      "data\n",
      "helpers.jl\n",
      "lager_cluster_45.png\n",
      "larger_cluster_45.png\n",
      "main.jl\n",
      "python\n",
      "results.h5\n",
      "sbm.jl\n",
      "small_cluster_45.png\n",
      "smaller_cluster_45.png\n",
      "spectral_comm_detect.jl\n",
      "spectral_graph_methods.ipynb\n"
     ]
    }
   ],
   "source": [
    "max(sum(label_est .== labels*2 -1), sum(label_est .!= labels*2 -1))/length(labels)"
   ]
  },
  {
   "cell_type": "code",
   "execution_count": null,
   "metadata": {
    "collapsed": true
   },
   "outputs": [],
   "source": []
  }
 ],
 "metadata": {
  "anaconda-cloud": {},
  "kernelspec": {
   "display_name": "Julia 0.5.0",
   "language": "julia",
   "name": "julia-0.5"
  },
  "language_info": {
   "file_extension": ".jl",
   "mimetype": "application/julia",
   "name": "julia",
   "version": "0.5.1"
  }
 },
 "nbformat": 4,
 "nbformat_minor": 0
}
