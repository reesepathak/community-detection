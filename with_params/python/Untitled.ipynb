{
 "cells": [
  {
   "cell_type": "code",
   "execution_count": 1,
   "metadata": {
    "collapsed": true
   },
   "outputs": [],
   "source": [
    "from util import *\n",
    "from read_data import *\n",
    "from sbm import *\n",
    "import networkx as nx\n",
    "import numpy as np"
   ]
  },
  {
   "cell_type": "code",
   "execution_count": 2,
   "metadata": {
    "collapsed": true
   },
   "outputs": [],
   "source": [
    "def collect_shortest_path(threshold, m, resnet, verts):\n",
    "    print(threshold, m)\n",
    "    result = [[set([]) for _ in range(threshold)] for _ in range(m)]\n",
    "    print(len(result), len(result[0]))\n",
    "    for t in range(threshold):\n",
    "        for i in range(m):\n",
    "            print(t, resnet, verts[i])\n",
    "            sps = shortest_paths(t, resnet, verts[i])\n",
    "            result[i][t] = sps\n",
    "    return result"
   ]
  },
  {
   "cell_type": "code",
   "execution_count": 4,
   "metadata": {
    "collapsed": false
   },
   "outputs": [],
   "source": [
    "n = 1000\n",
    "L, E = gen_sym_sbm(n, 2, 0.4*n, 0.00004*n, regime=SBM_LIN)\n",
    "G = nx.Graph()\n",
    "G.add_nodes_from(range(n))\n",
    "G.add_edges_from(E)\n",
    "for i in range(n):\n",
    "\tG.node[i]['value'] = L[i]\n",
    "max_cc = max(nx.connected_components(G), key=len)\n",
    "G = G.subgraph(max_cc)\n",
    "\n",
    "# Compute relative cluster sizes\n",
    "left, right = subgraphs_by_value(G, [0, 1])\n",
    "num_left = 1.0*left.number_of_nodes()\n",
    "num_right = 1.0*right.number_of_nodes()\n",
    "num_total = num_left + num_right\n",
    "p = np.array([num_left/num_total, num_right/num_total])\n",
    "\n",
    "# Compute connectivity parameters\n",
    "q_diag = np.array([get_conn_prob(left), get_conn_prob(right)])\n",
    "remaining_edges = G.number_of_edges() - left.number_of_edges() - right.number_of_edges()\n",
    "inter_prob = remaining_edges*1.0/(num_left*num_right)\n",
    "Q = np.diag(q_diag)\n",
    "Q[0,1] = Q[1,0] = inter_prob\n",
    "\n",
    "n = G.number_of_nodes()\n",
    "# Compute eigenvalues/vectors\n",
    "PQ = np.matmul(np.diag(p),n*Q)\n",
    "evals, evecs = np.linalg.eig(PQ)\n",
    "# Parameters\n",
    "c = 1e-3\n",
    "k = 2\n",
    "m = int(np.log(4.0*k)/min(p))\n",
    "eps = 0.001\n",
    "x = 1e-3\n",
    "num_iters = int(np.log(n))"
   ]
  },
  {
   "cell_type": "markdown",
   "metadata": {},
   "source": [
    "### Stron"
   ]
  },
  {
   "cell_type": "code",
   "execution_count": 9,
   "metadata": {
    "collapsed": true
   },
   "outputs": [],
   "source": [
    "# compute parameters \n",
    "val = np.log(n)/np.log(1.0*(1 - c)*evals[0])\n",
    "r = (1.0 - (eps/3.0))*val - eta\n",
    "s = 2.0*(eps/3.0)*val"
   ]
  },
  {
   "cell_type": "code",
   "execution_count": null,
   "metadata": {
    "collapsed": true
   },
   "outputs": [],
   "source": []
  }
 ],
 "metadata": {
  "anaconda-cloud": {},
  "kernelspec": {
   "display_name": "Python [conda root]",
   "language": "python",
   "name": "conda-root-py"
  },
  "language_info": {
   "codemirror_mode": {
    "name": "ipython",
    "version": 2
   },
   "file_extension": ".py",
   "mimetype": "text/x-python",
   "name": "python",
   "nbconvert_exporter": "python",
   "pygments_lexer": "ipython2",
   "version": "2.7.12"
  }
 },
 "nbformat": 4,
 "nbformat_minor": 1
}
