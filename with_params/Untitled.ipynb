{
 "cells": [
  {
   "cell_type": "code",
   "execution_count": 1,
   "metadata": {
    "collapsed": true
   },
   "outputs": [],
   "source": [
    "import numpy as np\n",
    "import matplotlib.pyplot as plt\n",
    "import seaborn as sns"
   ]
  },
  {
   "cell_type": "code",
   "execution_count": 2,
   "metadata": {
    "collapsed": true
   },
   "outputs": [],
   "source": [
    "FNAME = '40_results.txt'"
   ]
  },
  {
   "cell_type": "code",
   "execution_count": 46,
   "metadata": {
    "collapsed": false
   },
   "outputs": [],
   "source": [
    "accuracies = []\n",
    "min_clusters = []\n",
    "max_clusters = []\n",
    "with open(FNAME, 'r') as file:\n",
    "    for line in file:\n",
    "        line2 = line.split()\n",
    "        line2 = line2[4].strip('.'), line2[7].strip('.'), line2[9]\n",
    "        line2 = [float(i) for i in line2]\n",
    "        min_cluster = min(line2[0], line2[1])\n",
    "        max_cluster = max(line2[0], line2[1])\n",
    "        accuracy = line2[2]\n",
    "        accuracies.append(accuracy)\n",
    "        min_clusters.append(min_cluster)\n",
    "        max_clusters.append(max_cluster)"
   ]
  },
  {
   "cell_type": "code",
   "execution_count": 82,
   "metadata": {
    "collapsed": false
   },
   "outputs": [],
   "source": [
    "sns.distplot(accuracies, bins=8, kde=False, label='Empirical accuracies')\n",
    "plt.xlabel('Accuracy rate')\n",
    "plt.ylabel('Frequency')\n",
    "plt.axvline(x=np.mean(accuracies), color='r', linestyle='--', label='Empirical mean')\n",
    "plt.axvline(x=0.95, color='k', linestyle='--', label='Reported Accuracy')\n",
    "plt.title('Accuracy rate over 45 trials')\n",
    "plt.legend()\n",
    "plt.savefig('accuracy_45.png', dpi=1000)"
   ]
  },
  {
   "cell_type": "code",
   "execution_count": 84,
   "metadata": {
    "collapsed": false
   },
   "outputs": [],
   "source": [
    "plt.close()\n",
    "sns.distplot(min_clusters, bins=8, kde=False, label='Empirical accuracies')\n",
    "plt.xlabel('Size of Smaller Cluster (number of vertices)')\n",
    "plt.ylabel('Frequency')\n",
    "plt.axvline(x=np.mean(min_clusters), color='r', linestyle='--', label='Empirical mean')\n",
    "plt.axvline(x=586, color='k', linestyle='--', label='Ground Truth')\n",
    "plt.title('Smaller cluster size over 45 trials')\n",
    "plt.legend()\n",
    "plt.savefig('smaller_cluster_45.png', dpi=1000)"
   ]
  },
  {
   "cell_type": "code",
   "execution_count": 85,
   "metadata": {
    "collapsed": false
   },
   "outputs": [],
   "source": [
    "plt.close()\n",
    "sns.distplot(max_clusters, bins=8, kde=False, label='Empirical accuracies')\n",
    "plt.xlabel('Size of Larger Cluster (number of vertices)')\n",
    "plt.ylabel('Frequency')\n",
    "plt.axvline(x=np.mean(max_clusters), color='r', linestyle='--', label='Empirical mean')\n",
    "plt.axvline(x=586, color='k', linestyle='--', label='Ground Truth')\n",
    "plt.title('Larger cluster size over 45 trials')\n",
    "plt.legend()\n",
    "plt.savefig('larger_cluster_45.png', dpi=1000)"
   ]
  },
  {
   "cell_type": "code",
   "execution_count": null,
   "metadata": {
    "collapsed": true
   },
   "outputs": [],
   "source": []
  }
 ],
 "metadata": {
  "anaconda-cloud": {},
  "kernelspec": {
   "display_name": "Python [default]",
   "language": "python",
   "name": "python2"
  },
  "language_info": {
   "codemirror_mode": {
    "name": "ipython",
    "version": 2
   },
   "file_extension": ".py",
   "mimetype": "text/x-python",
   "name": "python",
   "nbconvert_exporter": "python",
   "pygments_lexer": "ipython2",
   "version": "2.7.12"
  }
 },
 "nbformat": 4,
 "nbformat_minor": 1
}
