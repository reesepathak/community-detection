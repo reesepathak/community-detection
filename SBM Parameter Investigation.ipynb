{
 "cells": [
  {
   "cell_type": "code",
   "execution_count": 257,
   "metadata": {
    "collapsed": false
   },
   "outputs": [
    {
     "data": {
      "text/plain": [
       "0.1"
      ]
     },
     "execution_count": 257,
     "metadata": {},
     "output_type": "execute_result"
    }
   ],
   "source": [
    "n = 5000\n",
    "k = 2.0\n",
    "a = linspace(0, 20, 1000)\n",
    "b = linspace(0, 20, 1000)\n",
    "c = 0.1\n"
   ]
  },
  {
   "cell_type": "code",
   "execution_count": 326,
   "metadata": {
    "collapsed": false
   },
   "outputs": [],
   "source": [
    "lambda1 = zeros(length(a), length(b))\n",
    "lambda2 = zeros(length(a), length(b))\n",
    "for i in 1:length(a)\n",
    "    for j in 1:length(b)\n",
    "        lambda1[i,j] = (1/k)*(a[i] + (k-1)*b[j])\n",
    "        lambda2[i,j] = (1/k)*(a[i] - b[j])\n",
    "        \n",
    "    end\n",
    "end\n",
    "r_max = 0.75*log(n)./log(lambda1);\n",
    "\n",
    "\n",
    "sphere_crossings_intra = zeros(length(a), length(b))\n",
    "sphere_crossings_extra = zeros(length(a), length(b))\n",
    "for i in 1:length(a)\n",
    "    for j in 1:length(b)\n",
    "        if (a[i] - b[j]) < 0\n",
    "            sphere_crossings_intra[i,j] = 0\n",
    "            sphere_crossings_extra[i,j] = 0\n",
    "            continue\n",
    "        end\n",
    "        r1 = 1\n",
    "        r2 = floor(r_max[i,j])\n",
    "        r_exp = r1 + r2 + 1\n",
    "#         println(r_exp)\n",
    "        d = (1.0/k)*(a[i] + (k-1)*b[i])\n",
    "#         println(d)\n",
    "#         println(\"rexp\", r_exp)\n",
    "#         println(\"base\", ((a[i] - b[j])/k))\n",
    "        inside_intra = d^r_exp + (((a[i] - b[j])/k)^r_exp)*(k-1) # If v1 and v2 are in the same communities\n",
    "        inside_extra = d^r_exp + (((a[i] - b[j])/k)^r_exp)*(-1) # If v1 and v2 are in different communities\n",
    "        leading_coeff = (1.0/n)*c*((1-c)^(r1+r2))\n",
    "        sphere_crossings_intra[i,j] = leading_coeff .* inside_intra\n",
    "        sphere_crossings_extra[i,j] = leading_coeff .* inside_extra\n",
    "    end\n",
    "end\n",
    "\n"
   ]
  },
  {
   "cell_type": "code",
   "execution_count": 327,
   "metadata": {
    "collapsed": false
   },
   "outputs": [],
   "source": [
    "good_grid = ((lambda1.^7 .< lambda2.^8) &  \n",
    "            (lambda2 .> 0) & \n",
    "            (4*lambda1.^3 .< lambda2.^4) & \n",
    "            ((lambda2.^2)./lambda1 .> 5) & \n",
    "            (sphere_crossings_intra .> 1) & (sphere_crossings_extra .> 1));\n",
    "out = [(a[i], b[j], r_max[i,j], sphere_crossings_intra[i,j], sphere_crossings_extra[i,j]) for i in 1:length(a), j in 1:length(b)];"
   ]
  },
  {
   "cell_type": "code",
   "execution_count": 328,
   "metadata": {
    "collapsed": false
   },
   "outputs": [],
   "source": [
    "good = out[good_grid];\n"
   ]
  },
  {
   "cell_type": "code",
   "execution_count": 329,
   "metadata": {
    "collapsed": false
   },
   "outputs": [
    {
     "data": {
      "text/plain": [
       "13028-element Array{Tuple{Float64,Float64,Float64,Float64,Float64},1}:\n",
       " (10.0701,0.02002,3.94703,1.40086,1.31678)\n",
       " (10.0901,0.02002,3.9422,1.41485,1.32992) \n",
       " (10.1101,0.02002,3.93739,1.42894,1.34316)\n",
       " (10.1301,0.02002,3.93261,1.44314,1.35652)\n",
       " (10.1502,0.02002,3.92784,1.45746,1.36997)\n",
       " (10.1702,0.02002,3.9231,1.47189,1.38354) \n",
       " (10.1902,0.02002,3.91837,1.48644,1.39721)\n",
       " (10.2102,0.02002,3.91367,1.5011,1.41098) \n",
       " (10.2302,0.02002,3.90899,1.51587,1.42487)\n",
       " (10.2503,0.02002,3.90433,1.53076,1.43887)\n",
       " (10.2703,0.02002,3.89969,1.54577,1.45297)\n",
       " (10.2903,0.02002,3.89506,1.5609,1.46719) \n",
       " (10.3103,0.02002,3.89046,1.57614,1.48151)\n",
       " ⋮                                        \n",
       " (15.3954,1.38138,3.00346,11.5706,11.1273)\n",
       " (15.4154,1.38138,3.00177,11.6461,11.1997)\n",
       " (15.4354,1.38138,3.00009,11.7221,11.2724)\n",
       " (15.2953,1.4014,3.01023,11.197,10.7724)  \n",
       " (15.3153,1.4014,3.00853,11.2707,10.843)  \n",
       " (15.3353,1.4014,3.00683,11.3446,10.9139) \n",
       " (15.3554,1.4014,3.00514,11.419,10.9852)  \n",
       " (15.3754,1.4014,3.00346,11.4938,11.0568) \n",
       " (15.3954,1.4014,3.00177,11.569,11.1288)  \n",
       " (15.4154,1.4014,3.00009,11.6445,11.2012) \n",
       " (15.3754,1.42142,3.00177,11.4923,11.0584)\n",
       " (15.3954,1.42142,3.00009,11.5674,11.1304)"
      ]
     },
     "execution_count": 329,
     "metadata": {},
     "output_type": "execute_result"
    }
   ],
   "source": [
    "[elem for elem in good if (elem[2] > 0 && elem[3] > 3)]"
   ]
  },
  {
   "cell_type": "code",
   "execution_count": null,
   "metadata": {
    "collapsed": false
   },
   "outputs": [],
   "source": []
  },
  {
   "cell_type": "code",
   "execution_count": null,
   "metadata": {
    "collapsed": true
   },
   "outputs": [],
   "source": []
  }
 ],
 "metadata": {
  "anaconda-cloud": {},
  "kernelspec": {
   "display_name": "Julia 0.5.0",
   "language": "julia",
   "name": "julia-0.5"
  },
  "language_info": {
   "file_extension": ".jl",
   "mimetype": "application/julia",
   "name": "julia",
   "version": "0.5.0"
  }
 },
 "nbformat": 4,
 "nbformat_minor": 0
}
